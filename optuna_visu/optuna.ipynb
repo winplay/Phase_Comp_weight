{
 "cells": [
  {
   "cell_type": "code",
   "execution_count": 1,
   "metadata": {},
   "outputs": [],
   "source": [
    "import optuna"
   ]
  },
  {
   "cell_type": "code",
   "execution_count": 2,
   "metadata": {},
   "outputs": [],
   "source": [
    "def objective(trial):\n",
    "    x = trial.suggest_float(\"x\", -10, 10)\n",
    "    return (x - 2) ** 2"
   ]
  },
  {
   "cell_type": "code",
   "execution_count": 3,
   "metadata": {},
   "outputs": [
    {
     "name": "stderr",
     "output_type": "stream",
     "text": [
      "[I 2024-09-09 16:04:20,429] A new study created in memory with name: no-name-12c98cc7-e05a-4faa-9a4b-7881230f95b4\n",
      "[I 2024-09-09 16:04:20,430] Trial 0 finished with value: 0.004551309833616627 and parameters: {'x': 2.067463396250238}. Best is trial 0 with value: 0.004551309833616627.\n",
      "[I 2024-09-09 16:04:20,431] Trial 1 finished with value: 26.964112847642255 and parameters: {'x': -3.19269803162501}. Best is trial 0 with value: 0.004551309833616627.\n",
      "[I 2024-09-09 16:04:20,432] Trial 2 finished with value: 9.410332016228635 and parameters: {'x': 5.067626446656867}. Best is trial 0 with value: 0.004551309833616627.\n",
      "[I 2024-09-09 16:04:20,433] Trial 3 finished with value: 7.41717921092434 and parameters: {'x': 4.723449873033161}. Best is trial 0 with value: 0.004551309833616627.\n",
      "[I 2024-09-09 16:04:20,433] Trial 4 finished with value: 6.975414300134645 and parameters: {'x': -0.6411009636389604}. Best is trial 0 with value: 0.004551309833616627.\n",
      "[I 2024-09-09 16:04:20,434] Trial 5 finished with value: 0.5148872038845673 and parameters: {'x': 2.7175564116392295}. Best is trial 0 with value: 0.004551309833616627.\n",
      "[I 2024-09-09 16:04:20,434] Trial 6 finished with value: 71.79341999100788 and parameters: {'x': -6.47309978644226}. Best is trial 0 with value: 0.004551309833616627.\n",
      "[I 2024-09-09 16:04:20,435] Trial 7 finished with value: 57.67234700328318 and parameters: {'x': -5.59423116604197}. Best is trial 0 with value: 0.004551309833616627.\n",
      "[I 2024-09-09 16:04:20,435] Trial 8 finished with value: 99.64927801910983 and parameters: {'x': -7.98244849819471}. Best is trial 0 with value: 0.004551309833616627.\n",
      "[I 2024-09-09 16:04:20,436] Trial 9 finished with value: 0.13751977043139085 and parameters: {'x': 2.3708365818408303}. Best is trial 0 with value: 0.004551309833616627.\n",
      "[I 2024-09-09 16:04:20,440] Trial 10 finished with value: 42.29391396410962 and parameters: {'x': 8.503377119936196}. Best is trial 0 with value: 0.004551309833616627.\n",
      "[I 2024-09-09 16:04:20,443] Trial 11 finished with value: 1.7717318329547571 and parameters: {'x': 0.6689358268833328}. Best is trial 0 with value: 0.004551309833616627.\n",
      "[I 2024-09-09 16:04:20,446] Trial 12 finished with value: 62.984762625867916 and parameters: {'x': 9.936294010800502}. Best is trial 0 with value: 0.004551309833616627.\n",
      "[I 2024-09-09 16:04:20,449] Trial 13 finished with value: 11.050176917554325 and parameters: {'x': -1.3241806385264812}. Best is trial 0 with value: 0.004551309833616627.\n",
      "[I 2024-09-09 16:04:20,452] Trial 14 finished with value: 0.6514488719568674 and parameters: {'x': 2.8071238269044394}. Best is trial 0 with value: 0.004551309833616627.\n",
      "[I 2024-09-09 16:04:20,456] Trial 15 finished with value: 16.3962139126359 and parameters: {'x': 6.049223865463096}. Best is trial 0 with value: 0.004551309833616627.\n",
      "[I 2024-09-09 16:04:20,459] Trial 16 finished with value: 0.04105728300846337 and parameters: {'x': 1.797374031751941}. Best is trial 0 with value: 0.004551309833616627.\n",
      "[I 2024-09-09 16:04:20,462] Trial 17 finished with value: 43.131730562493395 and parameters: {'x': -4.567475204558704}. Best is trial 0 with value: 0.004551309833616627.\n",
      "[I 2024-09-09 16:04:20,465] Trial 18 finished with value: 21.17201846276518 and parameters: {'x': -2.601306169205129}. Best is trial 0 with value: 0.004551309833616627.\n",
      "[I 2024-09-09 16:04:20,469] Trial 19 finished with value: 26.293523685943125 and parameters: {'x': 7.127721100639457}. Best is trial 0 with value: 0.004551309833616627.\n",
      "[I 2024-09-09 16:04:20,472] Trial 20 finished with value: 2.1215702252338935 and parameters: {'x': 0.5434389043936765}. Best is trial 0 with value: 0.004551309833616627.\n",
      "[I 2024-09-09 16:04:20,475] Trial 21 finished with value: 0.5408267071121295 and parameters: {'x': 2.7354092106522256}. Best is trial 0 with value: 0.004551309833616627.\n",
      "[I 2024-09-09 16:04:20,479] Trial 22 finished with value: 0.011240717354780072 and parameters: {'x': 1.8939777506615707}. Best is trial 0 with value: 0.004551309833616627.\n",
      "[I 2024-09-09 16:04:20,482] Trial 23 finished with value: 0.26052840015130274 and parameters: {'x': 1.4895801726506868}. Best is trial 0 with value: 0.004551309833616627.\n",
      "[I 2024-09-09 16:04:20,485] Trial 24 finished with value: 7.356817634445626 and parameters: {'x': 4.712345412082618}. Best is trial 0 with value: 0.004551309833616627.\n",
      "[I 2024-09-09 16:04:20,488] Trial 25 finished with value: 15.847614156537565 and parameters: {'x': -1.9809061979074016}. Best is trial 0 with value: 0.004551309833616627.\n",
      "[I 2024-09-09 16:04:20,491] Trial 26 finished with value: 3.829582924965166 and parameters: {'x': 3.956932018483311}. Best is trial 0 with value: 0.004551309833616627.\n",
      "[I 2024-09-09 16:04:20,496] Trial 27 finished with value: 4.900995769880671 and parameters: {'x': -0.2138192721811487}. Best is trial 0 with value: 0.004551309833616627.\n",
      "[I 2024-09-09 16:04:20,499] Trial 28 finished with value: 21.944878383186364 and parameters: {'x': 6.684536090498862}. Best is trial 0 with value: 0.004551309833616627.\n",
      "[I 2024-09-09 16:04:20,503] Trial 29 finished with value: 0.2084522419575043 and parameters: {'x': 1.5434342961221197}. Best is trial 0 with value: 0.004551309833616627.\n",
      "[I 2024-09-09 16:04:20,506] Trial 30 finished with value: 29.454620440532533 and parameters: {'x': -3.4272111107393393}. Best is trial 0 with value: 0.004551309833616627.\n",
      "[I 2024-09-09 16:04:20,510] Trial 31 finished with value: 1.8730507236757175 and parameters: {'x': 3.368594433598105}. Best is trial 0 with value: 0.004551309833616627.\n",
      "[I 2024-09-09 16:04:20,513] Trial 32 finished with value: 0.09601440015859028 and parameters: {'x': 1.6901380950187805}. Best is trial 0 with value: 0.004551309833616627.\n",
      "[I 2024-09-09 16:04:20,517] Trial 33 finished with value: 0.25740182706529624 and parameters: {'x': 1.4926521636339658}. Best is trial 0 with value: 0.004551309833616627.\n",
      "[I 2024-09-09 16:04:20,520] Trial 34 finished with value: 6.984045491823962 and parameters: {'x': -0.642734472440234}. Best is trial 0 with value: 0.004551309833616627.\n",
      "[I 2024-09-09 16:04:20,524] Trial 35 finished with value: 5.20545846669203 and parameters: {'x': 4.281547384274986}. Best is trial 0 with value: 0.004551309833616627.\n",
      "[I 2024-09-09 16:04:20,527] Trial 36 finished with value: 14.608372064677873 and parameters: {'x': 5.82209001263417}. Best is trial 0 with value: 0.004551309833616627.\n",
      "[I 2024-09-09 16:04:20,531] Trial 37 finished with value: 0.3162034750571636 and parameters: {'x': 1.4376802732811487}. Best is trial 0 with value: 0.004551309833616627.\n",
      "[I 2024-09-09 16:04:20,534] Trial 38 finished with value: 3.552684705900047 and parameters: {'x': 0.11514331953327361}. Best is trial 0 with value: 0.004551309833616627.\n",
      "[I 2024-09-09 16:04:20,537] Trial 39 finished with value: 2.7729921908627873 and parameters: {'x': 3.665230371709208}. Best is trial 0 with value: 0.004551309833616627.\n",
      "[I 2024-09-09 16:04:20,541] Trial 40 finished with value: 11.573077019371002 and parameters: {'x': -1.401922547526766}. Best is trial 0 with value: 0.004551309833616627.\n",
      "[I 2024-09-09 16:04:20,544] Trial 41 finished with value: 0.03552907104576274 and parameters: {'x': 2.1884915675720342}. Best is trial 0 with value: 0.004551309833616627.\n",
      "[I 2024-09-09 16:04:20,548] Trial 42 finished with value: 0.00027263335166127995 and parameters: {'x': 1.9834883873694518}. Best is trial 42 with value: 0.00027263335166127995.\n",
      "[I 2024-09-09 16:04:20,551] Trial 43 finished with value: 10.923727271704363 and parameters: {'x': 5.305106242120571}. Best is trial 42 with value: 0.00027263335166127995.\n",
      "[I 2024-09-09 16:04:20,554] Trial 44 finished with value: 137.5633183482013 and parameters: {'x': -9.728738992244704}. Best is trial 42 with value: 0.00027263335166127995.\n",
      "[I 2024-09-09 16:04:20,557] Trial 45 finished with value: 0.2781067803660067 and parameters: {'x': 2.5273583035906486}. Best is trial 42 with value: 0.00027263335166127995.\n",
      "[I 2024-09-09 16:04:20,561] Trial 46 finished with value: 1.4627199462291791 and parameters: {'x': 0.7905704046000945}. Best is trial 42 with value: 0.00027263335166127995.\n",
      "[I 2024-09-09 16:04:20,564] Trial 47 finished with value: 2.0270355333484256 and parameters: {'x': 3.4237399809475133}. Best is trial 42 with value: 0.00027263335166127995.\n",
      "[I 2024-09-09 16:04:20,567] Trial 48 finished with value: 9.16053014221853 and parameters: {'x': -1.026636770776852}. Best is trial 42 with value: 0.00027263335166127995.\n",
      "[I 2024-09-09 16:04:20,571] Trial 49 finished with value: 0.03932820253445288 and parameters: {'x': 2.198313394742899}. Best is trial 42 with value: 0.00027263335166127995.\n",
      "[I 2024-09-09 16:04:20,574] Trial 50 finished with value: 34.37399223699925 and parameters: {'x': 7.86293375683192}. Best is trial 42 with value: 0.00027263335166127995.\n",
      "[I 2024-09-09 16:04:20,577] Trial 51 finished with value: 0.18947575093981328 and parameters: {'x': 2.4352881240509707}. Best is trial 42 with value: 0.00027263335166127995.\n",
      "[I 2024-09-09 16:04:20,580] Trial 52 finished with value: 2.622221394327794 and parameters: {'x': 0.38067254876359424}. Best is trial 42 with value: 0.00027263335166127995.\n",
      "[I 2024-09-09 16:04:20,583] Trial 53 finished with value: 0.00015184501710262957 and parameters: {'x': 2.012322541016472}. Best is trial 53 with value: 0.00015184501710262957.\n",
      "[I 2024-09-09 16:04:20,586] Trial 54 finished with value: 1.1201126831744939 and parameters: {'x': 3.058353760882671}. Best is trial 53 with value: 0.00015184501710262957.\n",
      "[I 2024-09-09 16:04:20,590] Trial 55 finished with value: 1.3428404188240064 and parameters: {'x': 0.8411900851200804}. Best is trial 53 with value: 0.00015184501710262957.\n",
      "[I 2024-09-09 16:04:20,593] Trial 56 finished with value: 5.794910130242409 and parameters: {'x': 4.407261957129387}. Best is trial 53 with value: 0.00015184501710262957.\n",
      "[I 2024-09-09 16:04:20,597] Trial 57 finished with value: 0.04536311786101083 and parameters: {'x': 2.212986191714418}. Best is trial 53 with value: 0.00015184501710262957.\n",
      "[I 2024-09-09 16:04:20,600] Trial 58 finished with value: 4.257870140904778 and parameters: {'x': -0.06346071949644314}. Best is trial 53 with value: 0.00015184501710262957.\n",
      "[I 2024-09-09 16:04:20,604] Trial 59 finished with value: 8.700612326289816 and parameters: {'x': 4.949680037951543}. Best is trial 53 with value: 0.00015184501710262957.\n",
      "[I 2024-09-09 16:04:20,607] Trial 60 finished with value: 16.941749182422328 and parameters: {'x': -2.116035614814615}. Best is trial 53 with value: 0.00015184501710262957.\n",
      "[I 2024-09-09 16:04:20,611] Trial 61 finished with value: 0.017588426703161786 and parameters: {'x': 2.1326213659376263}. Best is trial 53 with value: 0.00015184501710262957.\n",
      "[I 2024-09-09 16:04:20,614] Trial 62 finished with value: 1.2042688240998307 and parameters: {'x': 0.9026081720279531}. Best is trial 53 with value: 0.00015184501710262957.\n",
      "[I 2024-09-09 16:04:20,618] Trial 63 finished with value: 0.02125032352741459 and parameters: {'x': 2.145774907056786}. Best is trial 53 with value: 0.00015184501710262957.\n",
      "[I 2024-09-09 16:04:20,621] Trial 64 finished with value: 3.418934251598371 and parameters: {'x': 3.8490360330719278}. Best is trial 53 with value: 0.00015184501710262957.\n",
      "[I 2024-09-09 16:04:20,625] Trial 65 finished with value: 0.8836275748046533 and parameters: {'x': 2.9400146673348524}. Best is trial 53 with value: 0.00015184501710262957.\n",
      "[I 2024-09-09 16:04:20,628] Trial 66 finished with value: 0.006447668282105628 and parameters: {'x': 1.9197026259326893}. Best is trial 53 with value: 0.00015184501710262957.\n",
      "[I 2024-09-09 16:04:20,631] Trial 67 finished with value: 4.7966937063629675 and parameters: {'x': -0.19013554520330267}. Best is trial 53 with value: 0.00015184501710262957.\n",
      "[I 2024-09-09 16:04:20,634] Trial 68 finished with value: 0.40662735911634573 and parameters: {'x': 1.3623266046663498}. Best is trial 53 with value: 0.00015184501710262957.\n",
      "[I 2024-09-09 16:04:20,637] Trial 69 finished with value: 1.2249601860959243 and parameters: {'x': 3.1067791948242993}. Best is trial 53 with value: 0.00015184501710262957.\n",
      "[I 2024-09-09 16:04:20,641] Trial 70 finished with value: 11.368169040733624 and parameters: {'x': 5.371671549948723}. Best is trial 53 with value: 0.00015184501710262957.\n",
      "[I 2024-09-09 16:04:20,643] Trial 71 finished with value: 0.02605250290276952 and parameters: {'x': 2.1614078774495518}. Best is trial 53 with value: 0.00015184501710262957.\n",
      "[I 2024-09-09 16:04:20,646] Trial 72 finished with value: 0.8843946731641746 and parameters: {'x': 1.059577396505074}. Best is trial 53 with value: 0.00015184501710262957.\n",
      "[I 2024-09-09 16:04:20,650] Trial 73 finished with value: 0.030789372017183975 and parameters: {'x': 2.175469005859109}. Best is trial 53 with value: 0.00015184501710262957.\n",
      "[I 2024-09-09 16:04:20,653] Trial 74 finished with value: 0.002713803200046332 and parameters: {'x': 1.9479058237415512}. Best is trial 53 with value: 0.00015184501710262957.\n",
      "[I 2024-09-09 16:04:20,657] Trial 75 finished with value: 4.406950362046854 and parameters: {'x': 4.099273770151681}. Best is trial 53 with value: 0.00015184501710262957.\n",
      "[I 2024-09-09 16:04:20,660] Trial 76 finished with value: 7.391560606250905 and parameters: {'x': -0.7187424678058245}. Best is trial 53 with value: 0.00015184501710262957.\n",
      "[I 2024-09-09 16:04:20,663] Trial 77 finished with value: 0.026308731503106066 and parameters: {'x': 1.8378003344543952}. Best is trial 53 with value: 0.00015184501710262957.\n",
      "[I 2024-09-09 16:04:20,667] Trial 78 finished with value: 2.612706333507319 and parameters: {'x': 0.38361318568007385}. Best is trial 53 with value: 0.00015184501710262957.\n",
      "[I 2024-09-09 16:04:20,670] Trial 79 finished with value: 2.2774968224744327 and parameters: {'x': 3.5091377745171024}. Best is trial 53 with value: 0.00015184501710262957.\n",
      "[I 2024-09-09 16:04:20,673] Trial 80 finished with value: 0.6893475296207199 and parameters: {'x': 2.830269552386886}. Best is trial 53 with value: 0.00015184501710262957.\n",
      "[I 2024-09-09 16:04:20,677] Trial 81 finished with value: 0.012920112211114493 and parameters: {'x': 1.8863333284946089}. Best is trial 53 with value: 0.00015184501710262957.\n",
      "[I 2024-09-09 16:04:20,680] Trial 82 finished with value: 0.05829583225189399 and parameters: {'x': 1.7585547013257579}. Best is trial 53 with value: 0.00015184501710262957.\n",
      "[I 2024-09-09 16:04:20,683] Trial 83 finished with value: 0.3970184448632376 and parameters: {'x': 1.3699060031525157}. Best is trial 53 with value: 0.00015184501710262957.\n",
      "[I 2024-09-09 16:04:20,686] Trial 84 finished with value: 0.8305612002683962 and parameters: {'x': 1.088648695470075}. Best is trial 53 with value: 0.00015184501710262957.\n",
      "[I 2024-09-09 16:04:20,691] Trial 85 finished with value: 0.5325914048461858 and parameters: {'x': 2.7297886028475546}. Best is trial 53 with value: 0.00015184501710262957.\n",
      "[I 2024-09-09 16:04:20,694] Trial 86 finished with value: 2.7273486449060647 and parameters: {'x': 0.34853136726546796}. Best is trial 53 with value: 0.00015184501710262957.\n",
      "[I 2024-09-09 16:04:20,698] Trial 87 finished with value: 1.567998627792268 and parameters: {'x': 3.252197519480161}. Best is trial 53 with value: 0.00015184501710262957.\n",
      "[I 2024-09-09 16:04:20,701] Trial 88 finished with value: 0.03799533689821873 and parameters: {'x': 1.8050760740744771}. Best is trial 53 with value: 0.00015184501710262957.\n",
      "[I 2024-09-09 16:04:20,704] Trial 89 finished with value: 5.50242657801128 and parameters: {'x': 4.345725171031611}. Best is trial 53 with value: 0.00015184501710262957.\n",
      "[I 2024-09-09 16:04:20,708] Trial 90 finished with value: 6.091041916578132 and parameters: {'x': -0.4680036297740999}. Best is trial 53 with value: 0.00015184501710262957.\n",
      "[I 2024-09-09 16:04:20,711] Trial 91 finished with value: 0.019583958862248563 and parameters: {'x': 2.139942698495665}. Best is trial 53 with value: 0.00015184501710262957.\n",
      "[I 2024-09-09 16:04:20,714] Trial 92 finished with value: 0.27312452557443423 and parameters: {'x': 2.5226131701119234}. Best is trial 53 with value: 0.00015184501710262957.\n",
      "[I 2024-09-09 16:04:20,718] Trial 93 finished with value: 0.7093535646840966 and parameters: {'x': 1.157768698821935}. Best is trial 53 with value: 0.00015184501710262957.\n",
      "[I 2024-09-09 16:04:20,722] Trial 94 finished with value: 0.007893863929433927 and parameters: {'x': 1.9111525806259184}. Best is trial 53 with value: 0.00015184501710262957.\n",
      "[I 2024-09-09 16:04:20,726] Trial 95 finished with value: 1.7844542894201936 and parameters: {'x': 0.6641653210744252}. Best is trial 53 with value: 0.00015184501710262957.\n",
      "[I 2024-09-09 16:04:20,729] Trial 96 finished with value: 2.7557262074036966 and parameters: {'x': 3.660038013842965}. Best is trial 53 with value: 0.00015184501710262957.\n",
      "[I 2024-09-09 16:04:20,733] Trial 97 finished with value: 0.0398064344048324 and parameters: {'x': 1.8004845008405803}. Best is trial 53 with value: 0.00015184501710262957.\n",
      "[I 2024-09-09 16:04:20,737] Trial 98 finished with value: 70.12399009969864 and parameters: {'x': -6.374006812732997}. Best is trial 53 with value: 0.00015184501710262957.\n",
      "[I 2024-09-09 16:04:20,740] Trial 99 finished with value: 0.29866457251905504 and parameters: {'x': 2.5465021248989386}. Best is trial 53 with value: 0.00015184501710262957.\n"
     ]
    }
   ],
   "source": [
    "study = optuna.create_study()\n",
    "study.optimize(objective, n_trials=100)"
   ]
  },
  {
   "cell_type": "code",
   "execution_count": 4,
   "metadata": {},
   "outputs": [
    {
     "name": "stdout",
     "output_type": "stream",
     "text": [
      "Found x: 2.012322541016472, (x - 2)^2: 0.00015184501710262957\n"
     ]
    }
   ],
   "source": [
    "best_params = study.best_params\n",
    "found_x = best_params[\"x\"]\n",
    "print(\"Found x: {}, (x - 2)^2: {}\".format(found_x, (found_x - 2) ** 2))"
   ]
  },
  {
   "cell_type": "code",
   "execution_count": 16,
   "metadata": {},
   "outputs": [
    {
     "name": "stderr",
     "output_type": "stream",
     "text": [
      "[I 2024-09-09 16:09:48,386] A new study created in RDB with name: no-name-0e7ca987-0d3a-4efc-8a3c-30fb5b611373\n"
     ]
    }
   ],
   "source": [
    "import optuna\n",
    "study = optuna.create_study(storage='sqlite:///example.db')\n",
    "study.set_user_attr('contributors', ['Akiba', 'Sano'])\n",
    "study.set_user_attr('dataset', 'MNIST')"
   ]
  },
  {
   "cell_type": "code",
   "execution_count": 17,
   "metadata": {},
   "outputs": [
    {
     "data": {
      "text/plain": [
       "{'contributors': ['Akiba', 'Sano'], 'dataset': 'MNIST'}"
      ]
     },
     "execution_count": 17,
     "metadata": {},
     "output_type": "execute_result"
    }
   ],
   "source": [
    "study.user_attrs  # {'contributors': ['Akiba', 'Sano'], 'dataset': 'MNIST'}"
   ]
  },
  {
   "cell_type": "code",
   "execution_count": 18,
   "metadata": {},
   "outputs": [
    {
     "data": {
      "text/plain": [
       "{'contributors': ['Akiba', 'Sano'], 'dataset': 'MNIST'}"
      ]
     },
     "execution_count": 18,
     "metadata": {},
     "output_type": "execute_result"
    }
   ],
   "source": [
    "study_summaries = optuna.get_all_study_summaries('sqlite:///example.db')\n",
    "study_summaries[0].user_attrs  # {'contributors': ['Akiba', 'Sano'], 'dataset': 'MNIST'}"
   ]
  },
  {
   "cell_type": "code",
   "execution_count": 19,
   "metadata": {},
   "outputs": [],
   "source": [
    "def objective(trial):\n",
    "    x = trial.suggest_float(\"x\", -10, 10)\n",
    "    trial.set_user_attr(\"info\", dict(x=x,y=1,z=[1,2,3]))\n",
    "    return (x - 2) ** 2"
   ]
  },
  {
   "cell_type": "code",
   "execution_count": 20,
   "metadata": {},
   "outputs": [
    {
     "name": "stderr",
     "output_type": "stream",
     "text": [
      "[I 2024-09-09 16:09:54,479] Trial 0 finished with value: 17.451485900970575 and parameters: {'x': -2.177497564448192}. Best is trial 0 with value: 17.451485900970575.\n"
     ]
    },
    {
     "name": "stderr",
     "output_type": "stream",
     "text": [
      "[I 2024-09-09 16:09:54,526] Trial 1 finished with value: 57.61595149976418 and parameters: {'x': -5.590517208976222}. Best is trial 0 with value: 17.451485900970575.\n",
      "[I 2024-09-09 16:09:54,571] Trial 2 finished with value: 59.340457019194425 and parameters: {'x': 9.70327573303685}. Best is trial 0 with value: 17.451485900970575.\n",
      "[I 2024-09-09 16:09:54,617] Trial 3 finished with value: 9.466225265395915 and parameters: {'x': 5.076723137592317}. Best is trial 3 with value: 9.466225265395915.\n",
      "[I 2024-09-09 16:09:54,662] Trial 4 finished with value: 36.708844997212346 and parameters: {'x': 8.05878246822019}. Best is trial 3 with value: 9.466225265395915.\n",
      "[I 2024-09-09 16:09:54,705] Trial 5 finished with value: 63.41037617854099 and parameters: {'x': 9.963063240898002}. Best is trial 3 with value: 9.466225265395915.\n",
      "[I 2024-09-09 16:09:54,747] Trial 6 finished with value: 34.52887589406753 and parameters: {'x': -3.87612762744884}. Best is trial 3 with value: 9.466225265395915.\n",
      "[I 2024-09-09 16:09:54,789] Trial 7 finished with value: 18.070167258237216 and parameters: {'x': 6.250901934676595}. Best is trial 3 with value: 9.466225265395915.\n",
      "[I 2024-09-09 16:09:54,832] Trial 8 finished with value: 50.23224266339356 and parameters: {'x': -5.0874708227543035}. Best is trial 3 with value: 9.466225265395915.\n",
      "[I 2024-09-09 16:09:54,874] Trial 9 finished with value: 31.788908846348384 and parameters: {'x': 7.638165379478362}. Best is trial 3 with value: 9.466225265395915.\n",
      "[I 2024-09-09 16:09:54,919] Trial 10 finished with value: 0.07643210082246894 and parameters: {'x': 2.276463561473242}. Best is trial 10 with value: 0.07643210082246894.\n",
      "[I 2024-09-09 16:09:54,965] Trial 11 finished with value: 0.0405171464679707 and parameters: {'x': 2.2012887142091446}. Best is trial 11 with value: 0.0405171464679707.\n",
      "[I 2024-09-09 16:09:55,011] Trial 12 finished with value: 0.0038469650412036797 and parameters: {'x': 1.9379760929866259}. Best is trial 12 with value: 0.0038469650412036797.\n",
      "[I 2024-09-09 16:09:55,055] Trial 13 finished with value: 0.051449473788781286 and parameters: {'x': 1.7731752355037456}. Best is trial 12 with value: 0.0038469650412036797.\n",
      "[I 2024-09-09 16:09:55,100] Trial 14 finished with value: 121.18164294139412 and parameters: {'x': -9.008253401034795}. Best is trial 12 with value: 0.0038469650412036797.\n",
      "[I 2024-09-09 16:09:55,143] Trial 15 finished with value: 2.6627549428026347 and parameters: {'x': 0.36820499363350345}. Best is trial 12 with value: 0.0038469650412036797.\n",
      "[I 2024-09-09 16:09:55,189] Trial 16 finished with value: 4.057581508984136 and parameters: {'x': 4.014343940091695}. Best is trial 12 with value: 0.0038469650412036797.\n",
      "[I 2024-09-09 16:09:55,234] Trial 17 finished with value: 11.388102333629252 and parameters: {'x': -1.3746262509542078}. Best is trial 12 with value: 0.0038469650412036797.\n",
      "[I 2024-09-09 16:09:55,280] Trial 18 finished with value: 0.9817469402504936 and parameters: {'x': 2.990831438868637}. Best is trial 12 with value: 0.0038469650412036797.\n",
      "[I 2024-09-09 16:09:55,326] Trial 19 finished with value: 3.9854650901757087 and parameters: {'x': 0.003637034460990396}. Best is trial 12 with value: 0.0038469650412036797.\n",
      "[I 2024-09-09 16:09:55,372] Trial 20 finished with value: 101.56698583488725 and parameters: {'x': -8.078044742651585}. Best is trial 12 with value: 0.0038469650412036797.\n",
      "[I 2024-09-09 16:09:55,417] Trial 21 finished with value: 0.12201113299792496 and parameters: {'x': 1.6506990795919299}. Best is trial 12 with value: 0.0038469650412036797.\n",
      "[I 2024-09-09 16:09:55,462] Trial 22 finished with value: 0.513048358476013 and parameters: {'x': 1.283726059055606}. Best is trial 12 with value: 0.0038469650412036797.\n",
      "[I 2024-09-09 16:09:55,507] Trial 23 finished with value: 4.8807683558651025 and parameters: {'x': 4.209246105771175}. Best is trial 12 with value: 0.0038469650412036797.\n",
      "[I 2024-09-09 16:09:55,553] Trial 24 finished with value: 11.029213423440822 and parameters: {'x': -1.32102595946506}. Best is trial 12 with value: 0.0038469650412036797.\n",
      "[I 2024-09-09 16:09:55,601] Trial 25 finished with value: 1.4878669976787235 and parameters: {'x': 3.2197815368658125}. Best is trial 12 with value: 0.0038469650412036797.\n",
      "[I 2024-09-09 16:09:55,646] Trial 26 finished with value: 14.798478771799532 and parameters: {'x': 5.8468790950326905}. Best is trial 12 with value: 0.0038469650412036797.\n",
      "[I 2024-09-09 16:09:55,692] Trial 27 finished with value: 20.92355131382582 and parameters: {'x': -2.5742268542154556}. Best is trial 12 with value: 0.0038469650412036797.\n",
      "[I 2024-09-09 16:09:55,735] Trial 28 finished with value: 1.5879179864190314 and parameters: {'x': 0.7398738212309723}. Best is trial 12 with value: 0.0038469650412036797.\n",
      "[I 2024-09-09 16:09:55,779] Trial 29 finished with value: 10.409175998132243 and parameters: {'x': -1.2263254637640393}. Best is trial 12 with value: 0.0038469650412036797.\n",
      "[I 2024-09-09 16:09:55,826] Trial 30 finished with value: 23.732743146581257 and parameters: {'x': -2.8716263348681883}. Best is trial 12 with value: 0.0038469650412036797.\n",
      "[I 2024-09-09 16:09:55,872] Trial 31 finished with value: 0.0715627658586966 and parameters: {'x': 2.26751217889789}. Best is trial 12 with value: 0.0038469650412036797.\n",
      "[I 2024-09-09 16:09:55,919] Trial 32 finished with value: 0.056064216460104434 and parameters: {'x': 2.236778834485062}. Best is trial 12 with value: 0.0038469650412036797.\n",
      "[I 2024-09-09 16:09:55,965] Trial 33 finished with value: 3.6629067942413327 and parameters: {'x': 3.913872199035592}. Best is trial 12 with value: 0.0038469650412036797.\n",
      "[I 2024-09-09 16:09:56,010] Trial 34 finished with value: 6.048407533343883 and parameters: {'x': -0.459351039063737}. Best is trial 12 with value: 0.0038469650412036797.\n",
      "[I 2024-09-09 16:09:56,058] Trial 35 finished with value: 7.9641985542424365 and parameters: {'x': 4.8220911668906865}. Best is trial 12 with value: 0.0038469650412036797.\n",
      "[I 2024-09-09 16:09:56,102] Trial 36 finished with value: 20.873656950702916 and parameters: {'x': 6.568769741484344}. Best is trial 12 with value: 0.0038469650412036797.\n",
      "[I 2024-09-09 16:09:56,148] Trial 37 finished with value: 0.5725379271084633 and parameters: {'x': 2.7566623600447318}. Best is trial 12 with value: 0.0038469650412036797.\n",
      "[I 2024-09-09 16:09:56,194] Trial 38 finished with value: 0.4487190070588033 and parameters: {'x': 1.3301350829765726}. Best is trial 12 with value: 0.0038469650412036797.\n",
      "[I 2024-09-09 16:09:56,238] Trial 39 finished with value: 34.445831603981574 and parameters: {'x': 7.869057130747798}. Best is trial 12 with value: 0.0038469650412036797.\n",
      "[I 2024-09-09 16:09:56,282] Trial 40 finished with value: 33.38859588975977 and parameters: {'x': -3.778286587714369}. Best is trial 12 with value: 0.0038469650412036797.\n",
      "[I 2024-09-09 16:09:56,329] Trial 41 finished with value: 0.01754784757177093 and parameters: {'x': 1.867531711071023}. Best is trial 12 with value: 0.0038469650412036797.\n",
      "[I 2024-09-09 16:09:56,374] Trial 42 finished with value: 5.522464822066841 and parameters: {'x': -0.34999251532145115}. Best is trial 12 with value: 0.0038469650412036797.\n",
      "[I 2024-09-09 16:09:56,418] Trial 43 finished with value: 0.002873057368840084 and parameters: {'x': 1.946399091716277}. Best is trial 43 with value: 0.002873057368840084.\n",
      "[I 2024-09-09 16:09:56,465] Trial 44 finished with value: 11.422306778441444 and parameters: {'x': 5.3796903376554255}. Best is trial 43 with value: 0.002873057368840084.\n",
      "[I 2024-09-09 16:09:56,510] Trial 45 finished with value: 1.463479416680304 and parameters: {'x': 0.7902564665680978}. Best is trial 43 with value: 0.002873057368840084.\n",
      "[I 2024-09-09 16:09:56,554] Trial 46 finished with value: 0.015670709961477496 and parameters: {'x': 1.8748172936804868}. Best is trial 43 with value: 0.002873057368840084.\n",
      "[I 2024-09-09 16:09:56,599] Trial 47 finished with value: 1.9301329247155465 and parameters: {'x': 3.3892922387732347}. Best is trial 43 with value: 0.002873057368840084.\n",
      "[I 2024-09-09 16:09:56,644] Trial 48 finished with value: 6.013909503491383 and parameters: {'x': 4.4523273646663455}. Best is trial 43 with value: 0.002873057368840084.\n",
      "[I 2024-09-09 16:09:56,690] Trial 49 finished with value: 7.666228073213808 and parameters: {'x': -0.7687954191694639}. Best is trial 43 with value: 0.002873057368840084.\n",
      "[I 2024-09-09 16:09:56,733] Trial 50 finished with value: 2.7065141915212942 and parameters: {'x': 0.35485131628740185}. Best is trial 43 with value: 0.002873057368840084.\n",
      "[I 2024-09-09 16:09:56,780] Trial 51 finished with value: 0.02402920860599246 and parameters: {'x': 1.8449864244461394}. Best is trial 43 with value: 0.002873057368840084.\n",
      "[I 2024-09-09 16:09:56,825] Trial 52 finished with value: 0.04430131073235251 and parameters: {'x': 2.210478765514131}. Best is trial 43 with value: 0.002873057368840084.\n",
      "[I 2024-09-09 16:09:56,873] Trial 53 finished with value: 0.4174547865288118 and parameters: {'x': 1.353892589015718}. Best is trial 43 with value: 0.002873057368840084.\n",
      "[I 2024-09-09 16:09:56,918] Trial 54 finished with value: 1.7610134645596394 and parameters: {'x': 3.3270318249987976}. Best is trial 43 with value: 0.002873057368840084.\n",
      "[I 2024-09-09 16:09:56,967] Trial 55 finished with value: 0.49267695122830574 and parameters: {'x': 2.7019095035888214}. Best is trial 43 with value: 0.002873057368840084.\n",
      "[I 2024-09-09 16:09:57,013] Trial 56 finished with value: 1.9093837763754806 and parameters: {'x': 0.6181954637592622}. Best is trial 43 with value: 0.002873057368840084.\n",
      "[I 2024-09-09 16:09:57,058] Trial 57 finished with value: 3.1019212030097743 and parameters: {'x': 3.7612271866541733}. Best is trial 43 with value: 0.002873057368840084.\n",
      "[I 2024-09-09 16:09:57,104] Trial 58 finished with value: 0.02141185612877885 and parameters: {'x': 1.8536720938139999}. Best is trial 43 with value: 0.002873057368840084.\n",
      "[I 2024-09-09 16:09:57,149] Trial 59 finished with value: 14.624408005898957 and parameters: {'x': -1.8241872346812409}. Best is trial 43 with value: 0.002873057368840084.\n",
      "[I 2024-09-09 16:09:57,194] Trial 60 finished with value: 24.598025315589574 and parameters: {'x': 6.959639635657975}. Best is trial 43 with value: 0.002873057368840084.\n",
      "[I 2024-09-09 16:09:57,239] Trial 61 finished with value: 0.07693373052345862 and parameters: {'x': 1.7226306965011113}. Best is trial 43 with value: 0.002873057368840084.\n",
      "[I 2024-09-09 16:09:57,284] Trial 62 finished with value: 1.2086964593947287 and parameters: {'x': 0.9005926781239226}. Best is trial 43 with value: 0.002873057368840084.\n",
      "[I 2024-09-09 16:09:57,329] Trial 63 finished with value: 4.4155211878746785 and parameters: {'x': -0.10131415734884319}. Best is trial 43 with value: 0.002873057368840084.\n",
      "[I 2024-09-09 16:09:57,373] Trial 64 finished with value: 0.003163183815272482 and parameters: {'x': 1.9437578110732479}. Best is trial 43 with value: 0.002873057368840084.\n",
      "[I 2024-09-09 16:09:57,419] Trial 65 finished with value: 0.4940513147982001 and parameters: {'x': 2.7028878394155074}. Best is trial 43 with value: 0.002873057368840084.\n",
      "[I 2024-09-09 16:09:57,463] Trial 66 finished with value: 47.20213797666016 and parameters: {'x': 8.870381210432225}. Best is trial 43 with value: 0.002873057368840084.\n",
      "[I 2024-09-09 16:09:57,509] Trial 67 finished with value: 0.18756090766065606 and parameters: {'x': 1.5669169737098254}. Best is trial 43 with value: 0.002873057368840084.\n",
      "[I 2024-09-09 16:09:57,552] Trial 68 finished with value: 11.50119580284224 and parameters: {'x': 5.391341298489764}. Best is trial 43 with value: 0.002873057368840084.\n",
      "[I 2024-09-09 16:09:57,598] Trial 69 finished with value: 6.9372836871477075 and parameters: {'x': 4.633872374878424}. Best is trial 43 with value: 0.002873057368840084.\n",
      "[I 2024-09-09 16:09:57,643] Trial 70 finished with value: 3.4579501700019226 and parameters: {'x': 0.1404435555751682}. Best is trial 43 with value: 0.002873057368840084.\n",
      "[I 2024-09-09 16:09:57,691] Trial 71 finished with value: 0.02961086376219248 and parameters: {'x': 2.1720780746120565}. Best is trial 43 with value: 0.002873057368840084.\n",
      "[I 2024-09-09 16:09:57,738] Trial 72 finished with value: 0.0004540753859065278 and parameters: {'x': 1.9786909553028174}. Best is trial 72 with value: 0.0004540753859065278.\n",
      "[I 2024-09-09 16:09:57,783] Trial 73 finished with value: 2.024809351961088 and parameters: {'x': 3.422957958606328}. Best is trial 72 with value: 0.0004540753859065278.\n",
      "[I 2024-09-09 16:09:57,830] Trial 74 finished with value: 0.8271751029749308 and parameters: {'x': 1.0905083271547062}. Best is trial 72 with value: 0.0004540753859065278.\n",
      "[I 2024-09-09 16:09:57,875] Trial 75 finished with value: 0.6873982968449714 and parameters: {'x': 2.8290948660105015}. Best is trial 72 with value: 0.0004540753859065278.\n",
      "[I 2024-09-09 16:09:57,922] Trial 76 finished with value: 0.08021212083176002 and parameters: {'x': 1.7167825555659397}. Best is trial 72 with value: 0.0004540753859065278.\n",
      "[I 2024-09-09 16:09:57,967] Trial 77 finished with value: 7.80608152305828 and parameters: {'x': -0.7939365638930098}. Best is trial 72 with value: 0.0004540753859065278.\n",
      "[I 2024-09-09 16:09:58,014] Trial 78 finished with value: 0.0007382993225993877 and parameters: {'x': 2.027171663964494}. Best is trial 72 with value: 0.0004540753859065278.\n",
      "[I 2024-09-09 16:09:58,059] Trial 79 finished with value: 77.02412530223788 and parameters: {'x': -6.776338946408}. Best is trial 72 with value: 0.0004540753859065278.\n",
      "[I 2024-09-09 16:09:58,106] Trial 80 finished with value: 4.500461533479608 and parameters: {'x': 4.121429125254862}. Best is trial 72 with value: 0.0004540753859065278.\n",
      "[I 2024-09-09 16:09:58,151] Trial 81 finished with value: 0.008691553768763658 and parameters: {'x': 2.0932285029846756}. Best is trial 72 with value: 0.0004540753859065278.\n",
      "[I 2024-09-09 16:09:58,196] Trial 82 finished with value: 0.6803700104760683 and parameters: {'x': 2.8248454464177324}. Best is trial 72 with value: 0.0004540753859065278.\n",
      "[I 2024-09-09 16:09:58,241] Trial 83 finished with value: 0.8355237436180382 and parameters: {'x': 1.0859301210421393}. Best is trial 72 with value: 0.0004540753859065278.\n",
      "[I 2024-09-09 16:09:58,287] Trial 84 finished with value: 2.9724018799880016 and parameters: {'x': 3.724065509192734}. Best is trial 72 with value: 0.0004540753859065278.\n",
      "[I 2024-09-09 16:09:58,333] Trial 85 finished with value: 0.01284102556139186 and parameters: {'x': 2.113318249021911}. Best is trial 72 with value: 0.0004540753859065278.\n",
      "[I 2024-09-09 16:09:58,378] Trial 86 finished with value: 0.12058574904118849 and parameters: {'x': 2.347254588221939}. Best is trial 72 with value: 0.0004540753859065278.\n",
      "[I 2024-09-09 16:09:58,422] Trial 87 finished with value: 2.2653467512285976 and parameters: {'x': 0.49489310969997957}. Best is trial 72 with value: 0.0004540753859065278.\n",
      "[I 2024-09-09 16:09:58,467] Trial 88 finished with value: 0.14927170288794422 and parameters: {'x': 2.386356963037997}. Best is trial 72 with value: 0.0004540753859065278.\n",
      "[I 2024-09-09 16:09:58,514] Trial 89 finished with value: 1.398607830531619 and parameters: {'x': 3.1826275113202884}. Best is trial 72 with value: 0.0004540753859065278.\n",
      "[I 2024-09-09 16:09:58,562] Trial 90 finished with value: 0.48769063820695124 and parameters: {'x': 1.3016514922999038}. Best is trial 72 with value: 0.0004540753859065278.\n",
      "[I 2024-09-09 16:09:58,608] Trial 91 finished with value: 0.007960279925644414 and parameters: {'x': 1.9107795991622745}. Best is trial 72 with value: 0.0004540753859065278.\n",
      "[I 2024-09-09 16:09:58,654] Trial 92 finished with value: 2.941023506349621 and parameters: {'x': 0.2850587455106164}. Best is trial 72 with value: 0.0004540753859065278.\n",
      "[I 2024-09-09 16:09:58,698] Trial 93 finished with value: 0.003370339936080006 and parameters: {'x': 2.0580546288945163}. Best is trial 72 with value: 0.0004540753859065278.\n",
      "[I 2024-09-09 16:09:58,742] Trial 94 finished with value: 1.2623723499179198 and parameters: {'x': 0.876446552264682}. Best is trial 72 with value: 0.0004540753859065278.\n",
      "[I 2024-09-09 16:09:58,788] Trial 95 finished with value: 0.16833878458070275 and parameters: {'x': 2.4102910973695417}. Best is trial 72 with value: 0.0004540753859065278.\n",
      "[I 2024-09-09 16:09:58,833] Trial 96 finished with value: 2.2945467072978745 and parameters: {'x': 3.514776124481065}. Best is trial 72 with value: 0.0004540753859065278.\n",
      "[I 2024-09-09 16:09:58,878] Trial 97 finished with value: 0.00024546272256622647 and parameters: {'x': 2.015667250000119}. Best is trial 97 with value: 0.00024546272256622647.\n",
      "[I 2024-09-09 16:09:58,938] Trial 98 finished with value: 5.099574998994483 and parameters: {'x': -0.25822385936259273}. Best is trial 97 with value: 0.00024546272256622647.\n",
      "[I 2024-09-09 16:09:58,984] Trial 99 finished with value: 1.1357884246692411 and parameters: {'x': 3.065733749427708}. Best is trial 97 with value: 0.00024546272256622647.\n"
     ]
    }
   ],
   "source": [
    "study.optimize(objective, n_trials=100)"
   ]
  },
  {
   "cell_type": "code",
   "execution_count": 22,
   "metadata": {},
   "outputs": [
    {
     "data": {
      "text/plain": [
       "{'x': 2.015667250000119, 'y': 1, 'z': [1, 2, 3]}"
      ]
     },
     "execution_count": 22,
     "metadata": {},
     "output_type": "execute_result"
    }
   ],
   "source": [
    "study.best_trial.user_attrs['info']"
   ]
  },
  {
   "cell_type": "code",
   "execution_count": null,
   "metadata": {},
   "outputs": [],
   "source": []
  }
 ],
 "metadata": {
  "kernelspec": {
   "display_name": "base",
   "language": "python",
   "name": "python3"
  },
  "language_info": {
   "codemirror_mode": {
    "name": "ipython",
    "version": 3
   },
   "file_extension": ".py",
   "mimetype": "text/x-python",
   "name": "python",
   "nbconvert_exporter": "python",
   "pygments_lexer": "ipython3",
   "version": "3.11.5"
  }
 },
 "nbformat": 4,
 "nbformat_minor": 2
}
